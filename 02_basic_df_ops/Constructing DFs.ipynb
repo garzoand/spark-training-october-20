{
 "cells": [
  {
   "cell_type": "code",
   "execution_count": 1,
   "metadata": {},
   "outputs": [],
   "source": [
    "import pyspark\n",
    "from pyspark.sql import SparkSession\n",
    "\n",
    "sc = pyspark.SparkContext()\n",
    "spark = SparkSession(sc)"
   ]
  },
  {
   "cell_type": "code",
   "execution_count": 4,
   "metadata": {},
   "outputs": [],
   "source": [
    "from pyspark.sql.types import *\n",
    "schema = StructType([\n",
    "    StructField('product_id', IntegerType(), False),\n",
    "    StructField('product_name', StringType(), False),\n",
    "    StructField('qty', IntegerType(), False)\n",
    "])"
   ]
  },
  {
   "cell_type": "code",
   "execution_count": 5,
   "metadata": {},
   "outputs": [],
   "source": [
    "schema2 = \"product_id STRING, product_name STRING, qty INT\""
   ]
  },
  {
   "cell_type": "code",
   "execution_count": 6,
   "metadata": {},
   "outputs": [
    {
     "name": "stdout",
     "output_type": "stream",
     "text": [
      "+----------+------------+---+\n",
      "|product_id|product_name|qty|\n",
      "+----------+------------+---+\n",
      "|         1|    product1| 10|\n",
      "|         2|    product2| 20|\n",
      "+----------+------------+---+\n",
      "\n",
      "+----------+------------+---+\n",
      "|product_id|product_name|qty|\n",
      "+----------+------------+---+\n",
      "|         1|    product1| 10|\n",
      "|         2|    product2| 20|\n",
      "+----------+------------+---+\n",
      "\n"
     ]
    }
   ],
   "source": [
    "data = [[1, \"product1\", 10], [2, \"product2\", 20]]\n",
    "\n",
    "df1 = spark.createDataFrame(data, schema)\n",
    "df2 = spark.createDataFrame(data, schema2)\n",
    "\n",
    "df1.show()\n",
    "df2.show()"
   ]
  },
  {
   "cell_type": "code",
   "execution_count": 7,
   "metadata": {},
   "outputs": [
    {
     "name": "stdout",
     "output_type": "stream",
     "text": [
      "root\n",
      " |-- product_id: integer (nullable = false)\n",
      " |-- product_name: string (nullable = false)\n",
      " |-- qty: integer (nullable = false)\n",
      "\n"
     ]
    }
   ],
   "source": [
    "df1.printSchema()"
   ]
  },
  {
   "cell_type": "code",
   "execution_count": 19,
   "metadata": {},
   "outputs": [
    {
     "name": "stdout",
     "output_type": "stream",
     "text": [
      "+----------+------------+---+\n",
      "|product_id|product_name|qty|\n",
      "+----------+------------+---+\n",
      "|         1|    product1| 10|\n",
      "|         2|    product2| 20|\n",
      "+----------+------------+---+\n",
      "\n"
     ]
    }
   ],
   "source": [
    "# create DF from RDD\n",
    "rdd = sc.parallelize(data)\n",
    "df3 = rdd.toDF(schema)\n",
    "df3.show()"
   ]
  },
  {
   "cell_type": "code",
   "execution_count": 20,
   "metadata": {},
   "outputs": [
    {
     "name": "stdout",
     "output_type": "stream",
     "text": [
      "root\n",
      " |-- product_id: long (nullable = true)\n",
      " |-- product_name: string (nullable = true)\n",
      " |-- qty: long (nullable = true)\n",
      "\n"
     ]
    }
   ],
   "source": [
    "# Schema discovery\n",
    "df4 = spark.createDataFrame(data, ['product_id', 'product_name', 'qty'])\n",
    "df4.printSchema()"
   ]
  },
  {
   "cell_type": "code",
   "execution_count": 9,
   "metadata": {},
   "outputs": [
    {
     "data": {
      "text/plain": [
       "['product_id', 'product_name', 'qty']"
      ]
     },
     "execution_count": 9,
     "metadata": {},
     "output_type": "execute_result"
    }
   ],
   "source": [
    "df1.columns"
   ]
  },
  {
   "cell_type": "code",
   "execution_count": 11,
   "metadata": {},
   "outputs": [
    {
     "data": {
      "text/plain": [
       "DataFrame[product_name: string]"
      ]
     },
     "execution_count": 11,
     "metadata": {},
     "output_type": "execute_result"
    }
   ],
   "source": [
    "from pyspark.sql.functions import *\n",
    "df1.select(col('product_name'))"
   ]
  },
  {
   "cell_type": "code",
   "execution_count": 13,
   "metadata": {},
   "outputs": [
    {
     "name": "stdout",
     "output_type": "stream",
     "text": [
      "+------------+---------+\n",
      "|product_name|(qty * 2)|\n",
      "+------------+---------+\n",
      "|    product1|       20|\n",
      "|    product2|       40|\n",
      "+------------+---------+\n",
      "\n"
     ]
    }
   ],
   "source": [
    "df1.select(col('product_name'), col('qty') * 2).show()"
   ]
  },
  {
   "cell_type": "code",
   "execution_count": 14,
   "metadata": {},
   "outputs": [
    {
     "name": "stdout",
     "output_type": "stream",
     "text": [
      "+----------+------------+---+--------------+\n",
      "|product_id|product_name|qty|Forecasted Qty|\n",
      "+----------+------------+---+--------------+\n",
      "|         1|    product1| 10|            20|\n",
      "|         2|    product2| 20|            40|\n",
      "+----------+------------+---+--------------+\n",
      "\n"
     ]
    }
   ],
   "source": [
    "# add computed column\n",
    "df1.withColumn('Forecasted Qty', expr('qty * 2')).show()"
   ]
  },
  {
   "cell_type": "code",
   "execution_count": 17,
   "metadata": {},
   "outputs": [
    {
     "name": "stdout",
     "output_type": "stream",
     "text": [
      "+--------+\n",
      "|avg(qty)|\n",
      "+--------+\n",
      "|    15.0|\n",
      "+--------+\n",
      "\n"
     ]
    }
   ],
   "source": [
    "# using Exprs\n",
    "df1.select(expr(\"avg(qty)\")).show()"
   ]
  },
  {
   "cell_type": "code",
   "execution_count": 18,
   "metadata": {},
   "outputs": [
    {
     "name": "stdout",
     "output_type": "stream",
     "text": [
      "+------------+\n",
      "|product_name|\n",
      "+------------+\n",
      "|    product1|\n",
      "|    product2|\n",
      "+------------+\n",
      "\n",
      "+------------+\n",
      "|product_name|\n",
      "+------------+\n",
      "|    product1|\n",
      "|    product2|\n",
      "+------------+\n",
      "\n",
      "+------------+\n",
      "|product_name|\n",
      "+------------+\n",
      "|    product1|\n",
      "|    product2|\n",
      "+------------+\n",
      "\n"
     ]
    }
   ],
   "source": [
    "# 3 types of \"select\"\n",
    "df1.select('product_name').show()\n",
    "df1.select(col('product_name')).show()\n",
    "df1.select(expr('product_name')).show()"
   ]
  },
  {
   "cell_type": "code",
   "execution_count": null,
   "metadata": {},
   "outputs": [],
   "source": []
  }
 ],
 "metadata": {
  "kernelspec": {
   "display_name": "Python 3",
   "language": "python",
   "name": "python3"
  },
  "language_info": {
   "codemirror_mode": {
    "name": "ipython",
    "version": 3
   },
   "file_extension": ".py",
   "mimetype": "text/x-python",
   "name": "python",
   "nbconvert_exporter": "python",
   "pygments_lexer": "ipython3",
   "version": "3.6.9"
  }
 },
 "nbformat": 4,
 "nbformat_minor": 4
}
